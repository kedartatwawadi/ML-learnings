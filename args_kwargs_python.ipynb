{
  "nbformat": 4,
  "nbformat_minor": 0,
  "metadata": {
    "colab": {
      "name": "args_kwargs_python.ipynb",
      "provenance": [],
      "authorship_tag": "ABX9TyPKnMhXWpQnWD755t09FFQu",
      "include_colab_link": true
    },
    "kernelspec": {
      "name": "python3",
      "display_name": "Python 3"
    }
  },
  "cells": [
    {
      "cell_type": "markdown",
      "metadata": {
        "id": "view-in-github",
        "colab_type": "text"
      },
      "source": [
        "<a href=\"https://colab.research.google.com/github/kedartatwawadi/ML-learnings/blob/master/args_kwargs_python.ipynb\" target=\"_parent\"><img src=\"https://colab.research.google.com/assets/colab-badge.svg\" alt=\"Open In Colab\"/></a>"
      ]
    },
    {
      "cell_type": "code",
      "metadata": {
        "id": "vGzj6QuuBsG_",
        "colab_type": "code",
        "colab": {}
      },
      "source": [
        "# consider a simple function\n",
        "def add(a,b):\n",
        "  return a+b"
      ],
      "execution_count": 1,
      "outputs": []
    },
    {
      "cell_type": "code",
      "metadata": {
        "id": "JEFPGYhZB_3Q",
        "colab_type": "code",
        "colab": {
          "base_uri": "https://localhost:8080/",
          "height": 34
        },
        "outputId": "9ae67bd0-fe43-46dd-a454-6c85e47fa43b"
      },
      "source": [
        "add(3,4)"
      ],
      "execution_count": 2,
      "outputs": [
        {
          "output_type": "execute_result",
          "data": {
            "text/plain": [
              "7"
            ]
          },
          "metadata": {
            "tags": []
          },
          "execution_count": 2
        }
      ]
    },
    {
      "cell_type": "markdown",
      "metadata": {
        "id": "Oe4PCikAEfJC",
        "colab_type": "text"
      },
      "source": [
        ""
      ]
    },
    {
      "cell_type": "code",
      "metadata": {
        "id": "04stc4GHB2Sj",
        "colab_type": "code",
        "colab": {}
      },
      "source": [
        "#if we want to support a variable number of inputs, the most convenient way is to pass a list\n",
        "def add_2(num_list):\n",
        "  return sum(num_list)"
      ],
      "execution_count": 7,
      "outputs": []
    },
    {
      "cell_type": "code",
      "metadata": {
        "id": "O_MKeKu0CBrJ",
        "colab_type": "code",
        "colab": {
          "base_uri": "https://localhost:8080/",
          "height": 34
        },
        "outputId": "4b2c0381-110a-4617-eb69-ba82eed11704"
      },
      "source": [
        "add_2([3,4])"
      ],
      "execution_count": 8,
      "outputs": [
        {
          "output_type": "execute_result",
          "data": {
            "text/plain": [
              "7"
            ]
          },
          "metadata": {
            "tags": []
          },
          "execution_count": 8
        }
      ]
    },
    {
      "cell_type": "code",
      "metadata": {
        "id": "c3gzmhosCK-u",
        "colab_type": "code",
        "colab": {}
      },
      "source": [
        "# we can have a more elegant way by using the * unpack operator for any iterable\n",
        "def add_3(*num_list):\n",
        "  return sum(num_list)"
      ],
      "execution_count": 9,
      "outputs": []
    },
    {
      "cell_type": "code",
      "metadata": {
        "id": "EazYky-ICbbK",
        "colab_type": "code",
        "colab": {
          "base_uri": "https://localhost:8080/",
          "height": 34
        },
        "outputId": "a0036f86-0b0c-42f2-df2b-b7f5482c956c"
      },
      "source": [
        "add_3(1,2,3)"
      ],
      "execution_count": 10,
      "outputs": [
        {
          "output_type": "execute_result",
          "data": {
            "text/plain": [
              "6"
            ]
          },
          "metadata": {
            "tags": []
          },
          "execution_count": 10
        }
      ]
    },
    {
      "cell_type": "code",
      "metadata": {
        "id": "k6co7BAuCgW2",
        "colab_type": "code",
        "colab": {
          "base_uri": "https://localhost:8080/",
          "height": 51
        },
        "outputId": "337a58a5-25a5-4b2c-ef13-7739e8f49485"
      },
      "source": [
        "# something more about the unpack operator:\n",
        "a = (1,2,3)\n",
        "print(a)\n",
        "print(*a)"
      ],
      "execution_count": 15,
      "outputs": [
        {
          "output_type": "stream",
          "text": [
            "(1, 2, 3)\n",
            "1 2 3\n"
          ],
          "name": "stdout"
        }
      ]
    },
    {
      "cell_type": "code",
      "metadata": {
        "id": "cDwPDb5MCvVM",
        "colab_type": "code",
        "colab": {
          "base_uri": "https://localhost:8080/",
          "height": 51
        },
        "outputId": "cb053dc7-3f87-4a42-ba82-5ea5906d6761"
      },
      "source": [
        "# similarly the ** operator is used to unpack dictionaries: \n",
        "b = {}\n",
        "b['test_1'] = 1\n",
        "b['test_2'] = 2\n",
        "print(b)\n",
        "c = {**b}\n",
        "print(c)"
      ],
      "execution_count": 22,
      "outputs": [
        {
          "output_type": "stream",
          "text": [
            "{'test_1': 1, 'test_2': 2}\n",
            "{'test_1': 1, 'test_2': 2}\n"
          ],
          "name": "stdout"
        }
      ]
    },
    {
      "cell_type": "code",
      "metadata": {
        "id": "n0vb8LhpCi7G",
        "colab_type": "code",
        "colab": {
          "base_uri": "https://localhost:8080/",
          "height": 51
        },
        "outputId": "a0461da6-5032-4a35-b4d7-0facc7be7ab7"
      },
      "source": [
        "# simply speaking *args, **kwargs capture the positional and named arguments respectively to a python function and store them in the variable args (tuple) and kwargs (dictionary) \n",
        "# which can be passed around\n",
        "def func(*args, **kwargs):\n",
        "  print(\"Positional arguments: \", args)\n",
        "  print(\"Named arguments: \", kwargs)\n",
        "\n",
        "func(3,4,a=5, b=12)"
      ],
      "execution_count": 23,
      "outputs": [
        {
          "output_type": "stream",
          "text": [
            "Positional arguments:  (3, 4)\n",
            "Named arguments:  {'a': 5, 'b': 12}\n"
          ],
          "name": "stdout"
        }
      ]
    }
  ]
}