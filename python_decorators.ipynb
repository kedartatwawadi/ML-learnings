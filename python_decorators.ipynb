{
  "nbformat": 4,
  "nbformat_minor": 0,
  "metadata": {
    "colab": {
      "name": "python_decorators.ipynb",
      "provenance": [],
      "collapsed_sections": [],
      "authorship_tag": "ABX9TyPSar4eBb4SBg1ARljiskPF",
      "include_colab_link": true
    },
    "kernelspec": {
      "name": "python3",
      "display_name": "Python 3"
    }
  },
  "cells": [
    {
      "cell_type": "markdown",
      "metadata": {
        "id": "view-in-github",
        "colab_type": "text"
      },
      "source": [
        "<a href=\"https://colab.research.google.com/github/kedartatwawadi/ML-learnings/blob/master/python_decorators.ipynb\" target=\"_parent\"><img src=\"https://colab.research.google.com/assets/colab-badge.svg\" alt=\"Open In Colab\"/></a>"
      ]
    },
    {
      "cell_type": "code",
      "metadata": {
        "id": "WWfet_uRFYN8",
        "colab_type": "code",
        "colab": {}
      },
      "source": [
        "# python decroators, as the name suggests, modify the function, without modifying its internals!\n",
        "def start_end_decorator(func):\n",
        "  def wrapper():\n",
        "    print(f\"starting: {func}\")\n",
        "    func()\n",
        "    print(f\"ending: {func}\")\n",
        "  return wrapper"
      ],
      "execution_count": 8,
      "outputs": []
    },
    {
      "cell_type": "code",
      "metadata": {
        "id": "Y2tIXPbKF83o",
        "colab_type": "code",
        "colab": {}
      },
      "source": [
        "def hello():\n",
        "  print(\"Hello\")\n",
        "\n"
      ],
      "execution_count": 9,
      "outputs": []
    },
    {
      "cell_type": "code",
      "metadata": {
        "id": "K9LMZasxGEAQ",
        "colab_type": "code",
        "colab": {
          "base_uri": "https://localhost:8080/",
          "height": 68
        },
        "outputId": "9d29a858-bb31-4a1a-9608-0a92590b5e4e"
      },
      "source": [
        "# one way is to return a \"new function\" as following:\n",
        "hello_new = start_end_decorator(hello)\n",
        "hello_new()"
      ],
      "execution_count": 10,
      "outputs": [
        {
          "output_type": "stream",
          "text": [
            "starting: <function hello at 0x7fc230975b70>\n",
            "Hello\n",
            "ending: <function hello at 0x7fc230975b70>\n"
          ],
          "name": "stdout"
        }
      ]
    },
    {
      "cell_type": "code",
      "metadata": {
        "id": "qcCBDDAuGkMo",
        "colab_type": "code",
        "colab": {
          "base_uri": "https://localhost:8080/",
          "height": 68
        },
        "outputId": "ba24f2c5-e366-4bf8-dcf4-4fa0f55816ba"
      },
      "source": [
        "# a more \"cleaner\" way (?) is:\n",
        "@start_end_decorator\n",
        "def hello_new():\n",
        "  print(\"Hello\")\n",
        "\n",
        "hello_new()"
      ],
      "execution_count": 12,
      "outputs": [
        {
          "output_type": "stream",
          "text": [
            "starting: <function hello_new at 0x7fc230975488>\n",
            "Hello\n",
            "ending: <function hello_new at 0x7fc230975488>\n"
          ],
          "name": "stdout"
        }
      ]
    },
    {
      "cell_type": "code",
      "metadata": {
        "id": "jWWtx_JdHepK",
        "colab_type": "code",
        "colab": {
          "base_uri": "https://localhost:8080/",
          "height": 68
        },
        "outputId": "6c983420-0147-494a-be98-02c9eb6ca677"
      },
      "source": [
        "# what about decorating functions with arguments:\n",
        "def start_end_args_decorator(func):\n",
        "  def wrapper(*args, **kwargs):\n",
        "    print(f\"starting: {func}\")\n",
        "    func(*args, **kwargs)\n",
        "    print(f\"ending: {func}\")\n",
        "  return wrapper\n",
        "\n",
        "@start_end_args_decorator\n",
        "def hello(name):\n",
        "  print(f\"Hello {name}\")\n",
        "\n",
        "hello(\"Kedar\")"
      ],
      "execution_count": 14,
      "outputs": [
        {
          "output_type": "stream",
          "text": [
            "starting: <function hello at 0x7fc230975d08>\n",
            "Hello Kedar\n",
            "ending: <function hello at 0x7fc230975d08>\n"
          ],
          "name": "stdout"
        }
      ]
    }
  ]
}